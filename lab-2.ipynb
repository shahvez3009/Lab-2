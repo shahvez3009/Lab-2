{
 "cells": [
  {
   "cell_type": "markdown",
   "metadata": {},
   "source": [
    "## Imports and fetching data"
   ]
  },
  {
   "cell_type": "code",
   "execution_count": null,
   "metadata": {},
   "outputs": [],
   "source": [
    "import pandas as pd\n",
    "import numpy as np\n",
    "import re"
   ]
  },
  {
   "cell_type": "code",
   "execution_count": null,
   "metadata": {},
   "outputs": [],
   "source": [
    "df = pd.read_csv(\"titanic.csv\")"
   ]
  },
  {
   "cell_type": "markdown",
   "metadata": {},
   "source": [
    "## Exploring data"
   ]
  },
  {
   "cell_type": "code",
   "execution_count": null,
   "metadata": {},
   "outputs": [],
   "source": [
    "df"
   ]
  },
  {
   "cell_type": "code",
   "execution_count": null,
   "metadata": {},
   "outputs": [],
   "source": [
    "df[\"Age\"].isnull().sum()\n"
   ]
  },
  {
   "cell_type": "markdown",
   "metadata": {},
   "source": [
    "## Fixing age as Int"
   ]
  },
  {
   "cell_type": "code",
   "execution_count": null,
   "metadata": {},
   "outputs": [],
   "source": [
    "# chekcing NaN for age\n",
    "\n",
    "ageNa = df[\"Age\"].isnull().sum()\n",
    "\n",
    "print(f\"Ammount of Nan Values in Age Series: {ageNa}\")"
   ]
  },
  {
   "cell_type": "code",
   "execution_count": null,
   "metadata": {},
   "outputs": [],
   "source": [
    "# filling age na with -1\n",
    "df[\"Age\"] = df[\"Age\"].fillna(-1)\n",
    "\n",
    "# casting type\n",
    "df[\"Age\"] = df[\"Age\"].astype(\"int\")"
   ]
  },
  {
   "cell_type": "code",
   "execution_count": null,
   "metadata": {},
   "outputs": [],
   "source": [
    "# Checking that fillna worked\n",
    "ageNa = df[\"Age\"].isnull().sum()\n",
    "\n",
    "print(f\"Ammount of Nan Values in Age Series after fillna: {ageNa}\")"
   ]
  },
  {
   "cell_type": "code",
   "execution_count": null,
   "metadata": {},
   "outputs": [],
   "source": [
    "# Confirming that the typecast worked\n",
    "df.info()"
   ]
  },
  {
   "cell_type": "markdown",
   "metadata": {},
   "source": [
    "# Feature engineering text data"
   ]
  },
  {
   "cell_type": "code",
   "execution_count": null,
   "metadata": {},
   "outputs": [],
   "source": [
    "# Casting to lowercase to make text easier to work with\n",
    "\n",
    "df[\"Name\"] = df[\"Name\"].apply(lambda x: str.lower(x))"
   ]
  },
  {
   "cell_type": "code",
   "execution_count": null,
   "metadata": {},
   "outputs": [],
   "source": [
    "def title_extractor(name: str) -> str:\n",
    "    title = re.search(\" [a-z]*\\.\", name).group(0)\n",
    "    title = re.sub(\"\\.\", \"\", title)\n",
    "    return title"
   ]
  },
  {
   "cell_type": "code",
   "execution_count": null,
   "metadata": {},
   "outputs": [],
   "source": [
    "df[\"Name\"]"
   ]
  },
  {
   "cell_type": "code",
   "execution_count": null,
   "metadata": {},
   "outputs": [],
   "source": [
    "df[\"Title\"] =  df[\"Name\"].apply(lambda x: title_extractor(x))"
   ]
  },
  {
   "cell_type": "code",
   "execution_count": null,
   "metadata": {},
   "outputs": [],
   "source": [
    "df[\"Title\"].value_counts()"
   ]
  },
  {
   "cell_type": "markdown",
   "metadata": {},
   "source": [
    "## First Name extraction"
   ]
  },
  {
   "cell_type": "code",
   "execution_count": null,
   "metadata": {},
   "outputs": [],
   "source": [
    "def first_name_extractor(name: str) -> str:\n",
    "    first_name = re.search(r\"^[a-z]*\\,\", name)\n",
    "    \n",
    "    try:\n",
    "        first_name = first_name.group(0)\n",
    "        first_name = re.sub(r\"\\,\", \"\", first_name)\n",
    "    except:\n",
    "        first_name = \"Undefined\"\n",
    "\n",
    "    return first_name"
   ]
  },
  {
   "cell_type": "code",
   "execution_count": null,
   "metadata": {},
   "outputs": [],
   "source": [
    "def last_name_extractor(name: str) -> str:\n",
    "    last_name = re.search(r\"\\. [a-z]*\", name)\n",
    "    \n",
    "    try:\n",
    "        last_name = last_name.group(0)\n",
    "        last_name = re.sub(r\"^\\. \", \"\", last_name)\n",
    "    except:\n",
    "        last_name = \"Undefined\"\n",
    "\n",
    "    return last_name"
   ]
  },
  {
   "cell_type": "code",
   "execution_count": null,
   "metadata": {},
   "outputs": [],
   "source": [
    "df[\"Name\"]\n",
    "#df[\"First Name\"] = df[\"Name\"].apply(lambda x: first_name_extractor(x))"
   ]
  },
  {
   "cell_type": "code",
   "execution_count": null,
   "metadata": {},
   "outputs": [],
   "source": [
    "df[\"Last Name\"] = df[\"Name\"].last.apply(lambda x: last_name_extractor(x[2]))"
   ]
  },
  {
   "cell_type": "markdown",
   "metadata": {},
   "source": [
    "# Making ordinal categories for age (usefull for classification later on)"
   ]
  },
  {
   "cell_type": "code",
   "execution_count": null,
   "metadata": {},
   "outputs": [],
   "source": [
    "def age_to_ordinal(age: int) -> int:\n",
    "    if age < 26:"
   ]
  },
  {
   "cell_type": "code",
   "execution_count": null,
   "metadata": {},
   "outputs": [],
   "source": [
    "df[\"Age Category\"] = "
   ]
  },
  {
   "cell_type": "code",
   "execution_count": null,
   "metadata": {},
   "outputs": [],
   "source": [
    "# Just looking at age categorie to see effect\n",
    "df[\"Age Category\"].value_counts()"
   ]
  },
  {
   "cell_type": "code",
   "execution_count": null,
   "metadata": {},
   "outputs": [],
   "source": [
    "# Fancy bonus plot if you want to\n",
    "df[\"Age Category\"]"
   ]
  },
  {
   "cell_type": "code",
   "execution_count": null,
   "metadata": {},
   "outputs": [],
   "source": [
    "df"
   ]
  },
  {
   "cell_type": "markdown",
   "metadata": {},
   "source": [
    "## Dealing with rest of NaN\n",
    "Since ish 80% of cabin is nan, it is doesn't make sense to drop it, thusly just filling rest of dataframe with Undefined for NaN values, however do not do this to deal with NaN in numerical columns (Series in panda language) as this would change the datatype (then you could use -1 instead as shown above)"
   ]
  },
  {
   "cell_type": "code",
   "execution_count": null,
   "metadata": {},
   "outputs": [],
   "source": [
    "# Filling Fare NaN float value of -1.0\n",
    "df[\"Fare\"] = \n",
    "\n",
    "# Filling NaN in the two remaining string columngs (thought this hits entire df)\n",
    "df = "
   ]
  },
  {
   "cell_type": "code",
   "execution_count": null,
   "metadata": {},
   "outputs": [],
   "source": [
    "df.isna().sum()"
   ]
  },
  {
   "cell_type": "code",
   "execution_count": null,
   "metadata": {},
   "outputs": [],
   "source": [
    "df"
   ]
  }
 ],
 "metadata": {
  "kernelspec": {
   "display_name": "Python 3.8.13 ('intro-ai')",
   "language": "python",
   "name": "python3"
  },
  "language_info": {
   "codemirror_mode": {
    "name": "ipython",
    "version": 3
   },
   "file_extension": ".py",
   "mimetype": "text/x-python",
   "name": "python",
   "nbconvert_exporter": "python",
   "pygments_lexer": "ipython3",
   "version": "3.8.13"
  },
  "orig_nbformat": 4,
  "vscode": {
   "interpreter": {
    "hash": "8aa6e3026fa60eea343972c21fc82c69c8db4bc34140c207539f4de9f469798c"
   }
  }
 },
 "nbformat": 4,
 "nbformat_minor": 2
}
